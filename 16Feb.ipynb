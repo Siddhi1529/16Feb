{
  "nbformat": 4,
  "nbformat_minor": 0,
  "metadata": {
    "colab": {
      "provenance": []
    },
    "kernelspec": {
      "name": "python3",
      "display_name": "Python 3"
    },
    "language_info": {
      "name": "python"
    }
  },
  "cells": [
    {
      "cell_type": "markdown",
      "source": [
        "Q1. What is a database? Differentiate between SQL and NoSQL databases.\n"
      ],
      "metadata": {
        "id": "JvhLGLw8Il1s"
      }
    },
    {
      "cell_type": "markdown",
      "source": [
        "### What is a Database?\n",
        "A **database** is an organized collection of data that can be easily accessed, managed, and updated. It is used to store and retrieve large amounts of structured or unstructured information efficiently.\n",
        "\n",
        "### Difference Between SQL and NoSQL Databases:\n",
        "\n",
        "1. **Data Structure**:\n",
        "   - **SQL**: Relational databases that store data in tables with rows and columns (structured data).\n",
        "   - **NoSQL**: Non-relational databases that store data in a variety of formats like key-value pairs, documents, graphs, or wide-column stores (unstructured or semi-structured data).\n",
        "\n",
        "2. **Schema**:\n",
        "   - **SQL**: Requires a predefined schema; the structure must be defined before inserting data.\n",
        "   - **NoSQL**: Schema-less; allows dynamic data insertion and flexible schema design.\n",
        "\n",
        "3. **Scalability**:\n",
        "   - **SQL**: Vertically scalable; requires increasing CPU, RAM, or storage on a single server.\n",
        "   - **NoSQL**: Horizontally scalable; can scale by adding more servers to distribute the load.\n",
        "\n",
        "4. **ACID vs. BASE**:\n",
        "   - **SQL**: Supports ACID properties (Atomicity, Consistency, Isolation, Durability) for reliable transactions.\n",
        "   - **NoSQL**: Often follows BASE (Basically Available, Soft state, Eventually consistent) for high availability and performance over strict consistency.\n",
        "\n",
        "5. **Examples**:\n",
        "   - **SQL**: MySQL, PostgreSQL, SQLite, Oracle.\n",
        "   - **NoSQL**: MongoDB, Cassandra, Redis, CouchDB."
      ],
      "metadata": {
        "id": "17H6r7CrJ5hN"
      }
    },
    {
      "cell_type": "code",
      "source": [],
      "metadata": {
        "id": "SQmRhe7ZImyS"
      },
      "execution_count": null,
      "outputs": []
    },
    {
      "cell_type": "markdown",
      "source": [
        "Q2. What is DDL? Explain why CREATE, DROP, ALTER, and TRUNCATE are used with an example.\n"
      ],
      "metadata": {
        "id": "AqojqmYZIm5O"
      }
    },
    {
      "cell_type": "markdown",
      "source": [
        "DDL (Data Definition Language) is a subset of SQL used to define and manage database structures, such as tables, indexes, and schemas. DDL commands do not manipulate data but rather the structure of the database."
      ],
      "metadata": {
        "id": "i6EPFgV5J-nZ"
      }
    },
    {
      "cell_type": "code",
      "source": [
        "# CREATE: Used to create a new table, view, or database.\n",
        "CREATE TABLE Students (ID INT, Name VARCHAR(100));"
      ],
      "metadata": {
        "id": "VCCyFU1KInrx"
      },
      "execution_count": 2,
      "outputs": []
    },
    {
      "cell_type": "code",
      "source": [
        "# DROP: Deletes an existing table, database, or view.\n",
        "DROP TABLE Students;"
      ],
      "metadata": {
        "id": "5WAGd4B-KB59"
      },
      "execution_count": null,
      "outputs": []
    },
    {
      "cell_type": "code",
      "source": [
        "# ALTER: Modifies an existing table (e.g., add a column).\n",
        "ALTER TABLE Students ADD Age INT;"
      ],
      "metadata": {
        "id": "qQsnd1b3KB9e"
      },
      "execution_count": null,
      "outputs": []
    },
    {
      "cell_type": "code",
      "source": [
        "# TRUNCATE: Removes all rows from a table but keeps the structure intact.\n",
        "TRUNCATE TABLE Students;\n"
      ],
      "metadata": {
        "id": "HPmM8mniKCHw"
      },
      "execution_count": null,
      "outputs": []
    },
    {
      "cell_type": "markdown",
      "source": [
        "Q3. What is DML? Explain INSERT, UPDATE, and DELETE with an example.\n"
      ],
      "metadata": {
        "id": "ddbqscPGInx8"
      }
    },
    {
      "cell_type": "markdown",
      "source": [
        "DML (Data Manipulation Language) is a subset of SQL used to manage and manipulate data within tables. DML commands allow users to insert, update, and delete data."
      ],
      "metadata": {
        "id": "n2xsSQ3XKYWP"
      }
    },
    {
      "cell_type": "code",
      "source": [
        "# INSERT: Adds new rows of data to a table.\n",
        "INSERT INTO Students (ID, Name, Age) VALUES (1, 'John Doe', 22);\n"
      ],
      "metadata": {
        "id": "jtIwGtv_Iok_"
      },
      "execution_count": null,
      "outputs": []
    },
    {
      "cell_type": "code",
      "source": [
        "# UPDATE: Modifies existing data in a table.\n",
        "UPDATE Students SET Age = 23 WHERE ID = 1;\n"
      ],
      "metadata": {
        "id": "FOaolLNHKZFg"
      },
      "execution_count": null,
      "outputs": []
    },
    {
      "cell_type": "code",
      "source": [
        "# DELETE: Removes rows from a table.\n",
        "DELETE FROM Students WHERE ID = 1;\n"
      ],
      "metadata": {
        "id": "XBnls4XwKZIX"
      },
      "execution_count": null,
      "outputs": []
    },
    {
      "cell_type": "markdown",
      "source": [
        "Q4. What is DQL? Explain SELECT with an example.\n"
      ],
      "metadata": {
        "id": "mxko5qofIoqr"
      }
    },
    {
      "cell_type": "markdown",
      "source": [
        "DQL (Data Query Language) is a subset of SQL used to query or retrieve data from a database. The main DQL command is SELECT, which allows users to fetch data from one or more tables."
      ],
      "metadata": {
        "id": "G95tKUMtKl2B"
      }
    },
    {
      "cell_type": "code",
      "source": [
        "# SELECT: Retrieves data from one or more tables.\n",
        "\n",
        "SELECT Name, Age FROM Students WHERE Age > 20;\n"
      ],
      "metadata": {
        "id": "a9gMMSUzIp2L"
      },
      "execution_count": null,
      "outputs": []
    },
    {
      "cell_type": "markdown",
      "source": [
        "Q5. Explain Primary Key and Foreign Key.\n"
      ],
      "metadata": {
        "id": "GeZbJwfHIp8A"
      }
    },
    {
      "cell_type": "markdown",
      "source": [
        "A Primary Key is a column (or a set of columns) in a table that uniquely identifies each row in that table. It must contain unique values and cannot have NULL values.\n",
        "\n",
        "A Foreign Key is a column (or a set of columns) in one table that links to the Primary Key in another table, establishing a relationship between the two tables. It ensures referential integrity"
      ],
      "metadata": {
        "id": "0zjAEbNZZZ3l"
      }
    },
    {
      "cell_type": "code",
      "source": [],
      "metadata": {
        "id": "ujhKGDHAIqyz"
      },
      "execution_count": null,
      "outputs": []
    },
    {
      "cell_type": "markdown",
      "source": [
        "Q6. Write a python code to connect MySQL to python. Explain the cursor() and execute() method.\n"
      ],
      "metadata": {
        "id": "-xVRjiWPIq4p"
      }
    },
    {
      "cell_type": "code",
      "source": [
        "import mysql.connector\n",
        "\n",
        "# Establishing the connection\n",
        "conn = mysql.connector.connect(\n",
        "    host=\"localhost\",\n",
        "    user=\"your_username\",\n",
        "    password=\"your_password\",\n",
        "    database=\"your_database\"\n",
        ")\n",
        "\n",
        "# Creating a cursor object\n",
        "cursor = conn.cursor()\n",
        "\n",
        "# Executing an SQL query\n",
        "cursor.execute(\"SELECT * FROM Students\")\n",
        "\n",
        "# Fetching and printing results\n",
        "results = cursor.fetchall()\n",
        "for row in results:\n",
        "    print(row)\n",
        "\n",
        "# Closing the cursor and connection\n",
        "cursor.close()\n",
        "conn.close()\n"
      ],
      "metadata": {
        "id": "k0frhIZ_Ir5b"
      },
      "execution_count": null,
      "outputs": []
    },
    {
      "cell_type": "markdown",
      "source": [
        "cursor(): The cursor() method is used to create a cursor object, which allows you to execute SQL queries and fetch data from the database.\n",
        "\n",
        "Example: cursor = conn.cursor()\n",
        "\n",
        "execute(): The execute() method is used to run an SQL query. You can pass the SQL statement as a string to this method.\n",
        "\n",
        "Example: cursor.execute(\"SELECT * FROM Students\") runs a SELECT query to fetch all records from the Students table."
      ],
      "metadata": {
        "id": "_gv7iKIkZiBx"
      }
    },
    {
      "cell_type": "code",
      "source": [],
      "metadata": {
        "id": "KcjCDtYoZmMs"
      },
      "execution_count": null,
      "outputs": []
    },
    {
      "cell_type": "markdown",
      "source": [
        "Q7. Give the order of execution of SQL clauses in an SQL query."
      ],
      "metadata": {
        "id": "A0tnvkYxIr_k"
      }
    },
    {
      "cell_type": "markdown",
      "source": [
        "he order of execution of SQL clauses in a query is as follows:\n",
        "\n",
        "FROM: Specifies the tables or views from which to retrieve data.\n",
        "\n",
        "JOIN: Combines rows from two or more tables based on a related column.\n",
        "\n",
        "WHERE: Filters the rows based on specified conditions.\n",
        "\n",
        "GROUP BY: Groups the rows based on one or more columns.\n",
        "\n",
        "HAVING: Filters groups based on specified conditions (applied after GROUP BY).\n",
        "\n",
        "SELECT: Specifies the columns to retrieve.\n",
        "\n",
        "DISTINCT: Removes duplicate rows from the result.\n",
        "\n",
        "ORDER BY: Sorts the result set in ascending or descending order.\n",
        "\n",
        "LIMIT / OFFSET: Limits the number of rows returned.\n"
      ],
      "metadata": {
        "id": "1jCe5UZgZqUr"
      }
    }
  ]
}